{
 "cells": [
  {
   "cell_type": "markdown",
   "metadata": {
    "colab_type": "text",
    "id": "rN7V6N1KS-cH"
   },
   "source": [
    "# MLP -- exercise\n",
    "\n",
    "# Understanding the training loop "
   ]
  },
  {
   "cell_type": "code",
   "execution_count": 1,
   "metadata": {
    "colab": {},
    "colab_type": "code",
    "id": "p5fC1VQxS-cK"
   },
   "outputs": [],
   "source": [
    "import torch\n",
    "import torch.nn as nn\n",
    "import torch.nn.functional as F\n",
    "import torch.optim as optim\n"
   ]
  },
  {
   "cell_type": "markdown",
   "metadata": {
    "colab_type": "text",
    "id": "WVU2h_VvS-cS"
   },
   "source": [
    "### Download the data and print the shape"
   ]
  },
  {
   "cell_type": "code",
   "execution_count": 2,
   "metadata": {
    "colab": {},
    "colab_type": "code",
    "id": "54LAU_tVS-cU"
   },
   "outputs": [],
   "source": [
    "\n",
    "import torchvision.datasets\n",
    "import torchvision.transforms as transforms\n",
    "\n",
    "# Apply transformations to the data points before passing them to the network\n",
    "transform = transforms.Compose([transforms.ToTensor(),  # Transform the data to torch tensors of shape (28, 28, 1), corresponding to 28 * 28 pixels with 1 channel (1 value per pixel that is)\n",
    "                                transforms.Lambda(lambda x: x.squeeze()),  # Squeeze the data to remove the redundant channel dimension\n",
    "                                ])                                         # Note: This is only redundant because there is only one channel\n",
    "\n",
    "# Download the MNIST train dataset (used to train the network)\n",
    "trainset = torchvision.datasets.FashionMNIST(root='./data_FashionMNIST',\n",
    "                                      train=True,\n",
    "                                      download=True,\n",
    "                                      transform=transform  # Apply the defined transformation on the data\n",
    "                                      )\n",
    "\n",
    "# Download the MNIST test dataset (used to evaluate the trained network)\n",
    "testset = torchvision.datasets.FashionMNIST(root='./data_FashionMNIST',\n",
    "                                     train=False,\n",
    "                                     download=True,\n",
    "                                     transform=transform\n",
    "                                     )\n",
    "\n",
    "classes = (\n",
    "    'T-shirt/top',\n",
    "    'Trouser',\n",
    "    'Pullover',\n",
    "    'Dress',\n",
    "    'Coat',\n",
    "    'Sandal',\n",
    "    'Shirt',\n",
    "    'Sneaker',\n",
    "    'Bag',\n",
    "    'Ankle boot',\n",
    ")\n",
    "\n"
   ]
  },
  {
   "cell_type": "code",
   "execution_count": 3,
   "metadata": {
    "colab": {
     "base_uri": "https://localhost:8080/",
     "height": 34
    },
    "colab_type": "code",
    "executionInfo": {
     "elapsed": 504,
     "status": "ok",
     "timestamp": 1573121830739,
     "user": {
      "displayName": "Ron van Bree",
      "photoUrl": "",
      "userId": "10574495138637938052"
     },
     "user_tz": -60
    },
    "id": "vkmlPuOdS-cY",
    "outputId": "4ec5f488-958f-49b4-9b83-d45738295546"
   },
   "outputs": [
    {
     "name": "stdout",
     "output_type": "stream",
     "text": [
      "torch.Size([60000, 28, 28])\n"
     ]
    }
   ],
   "source": [
    "print(trainset.data.shape)  # The trainset consists of 60000 28x28 images"
   ]
  },
  {
   "cell_type": "markdown",
   "metadata": {
    "colab_type": "text",
    "id": "GpO5_X8nS-cm"
   },
   "source": [
    "### Make a ONE layer net class **without** softmax activation\n",
    "We will use PyTorch's cross entropy loss function which expects the model outputs directly as it applies the softmax function internally. Therefore you only need to implement one linear layer with `input_size` number of inputs and `output_size` number of outputs."
   ]
  },
  {
   "cell_type": "code",
   "execution_count": 10,
   "metadata": {
    "colab": {},
    "colab_type": "code",
    "id": "7vvF91K_S-cn"
   },
   "outputs": [],
   "source": [
    "class OneLayerNet(nn.Module):\n",
    "\n",
    "    def __init__(self, input_size, output_size):\n",
    "        super(OneLayerNet, self).__init__()\n",
    "        self.linear_layer = nn.Linear( input_size, output_size , bias=False)\n",
    "        \n",
    "    def forward(self, x):\n",
    "        return self.linear_layer(x)\n"
   ]
  },
  {
   "cell_type": "markdown",
   "metadata": {
    "colab_type": "text",
    "id": "LSnd8DJuS-cq"
   },
   "source": [
    "### Build the net"
   ]
  },
  {
   "cell_type": "code",
   "execution_count": 11,
   "metadata": {
    "colab": {},
    "colab_type": "code",
    "id": "ErU8ayfQS-cr"
   },
   "outputs": [
    {
     "name": "stdout",
     "output_type": "stream",
     "text": [
      "OneLayerNet(\n",
      "  (linear_layer): Linear(in_features=784, out_features=10, bias=False)\n",
      ")\n"
     ]
    }
   ],
   "source": [
    "net = OneLayerNet(trainset.data.shape[1]*trainset.data.shape[2],len(classes))\n",
    "print(net)"
   ]
  },
  {
   "cell_type": "markdown",
   "metadata": {
    "colab_type": "text",
    "id": "uatdAdjOS-cv"
   },
   "source": [
    "### Choose the criterion and the optimizer: use the CHEAT SHEET to see the correct syntax. \n",
    "\n",
    "### Remember that the optimizer need to have access to the parameters of the network (net.parameters()).\n",
    "\n",
    "### Set the batchize and learning rate to be:\n",
    "### batchize = 50\n",
    "### learning rate = 0.01\n",
    "\n",
    "\n",
    "\n",
    "\n",
    "\n"
   ]
  },
  {
   "cell_type": "code",
   "execution_count": 12,
   "metadata": {
    "colab": {},
    "colab_type": "code",
    "id": "gwpar7DoS-cx"
   },
   "outputs": [],
   "source": [
    "# make the criterion\n",
    "criterion = nn.CrossEntropyLoss()\n",
    "\n",
    "# make the SGD optimizer. \n",
    "optimizer=torch.optim.SGD(net.parameters(),lr=0.01)\n",
    "\n",
    "# set up the batch size   \n",
    "bs=50"
   ]
  },
  {
   "cell_type": "markdown",
   "metadata": {
    "colab_type": "text",
    "id": "nvFafa9icQyO"
   },
   "source": [
    "### Create DataLoaders that sample data from the dataset\n"
   ]
  },
  {
   "cell_type": "code",
   "execution_count": 13,
   "metadata": {
    "colab": {},
    "colab_type": "code",
    "id": "U5IQ1XI8cQ_g"
   },
   "outputs": [],
   "source": [
    "trainloader = torch.utils.data.DataLoader(trainset,\n",
    "                                          batch_size=bs,\n",
    "                                          shuffle=True,\n",
    "                                          drop_last=True\n",
    "                                          )\n",
    "\n",
    "testloader = torch.utils.data.DataLoader(testset,\n",
    "                                         batch_size=bs,\n",
    "                                         shuffle=True,\n",
    "                                         drop_last=True\n",
    "                                         )"
   ]
  },
  {
   "cell_type": "markdown",
   "metadata": {
    "colab_type": "text",
    "id": "kBIVatHBS-c0"
   },
   "source": [
    "### Complete the training loop"
   ]
  },
  {
   "cell_type": "code",
   "execution_count": 14,
   "metadata": {
    "colab": {},
    "colab_type": "code",
    "id": "YNuAEBaGS-c1"
   },
   "outputs": [],
   "source": [
    "# Every epoch you iterate once over the entire dataset\n",
    "for epoch in range(1, 5):\n",
    "  # The trainloader splits the train dataset into random minibatches of data\n",
    "  # Iterate through all minibatches in the data set and perform gradient descent\n",
    "    for i, (minibatch_data, minibatch_label) in enumerate(trainloader):\n",
    "      \n",
    "        # Set dL/dU, dL/dV, dL/dW to be filled with zeros\n",
    "        optimizer.zero_grad()\n",
    "      \n",
    "        #reshape the minibatch\n",
    "        inputs = minibatch_data.view(bs,trainset.data.shape[1]*trainset.data.shape[2])\n",
    "\n",
    "        # forward the minibatch through the net  \n",
    "        outputs = net(inputs) \n",
    "      \n",
    "        # Compute the average of the losses of the data points in the minibatch\n",
    "        loss = criterion(outputs, minibatch_label) \n",
    "      \n",
    "        # backward pass to compute dL/dU, dL/dV and dL/dW    \n",
    "        loss.backward()\n",
    "      \n",
    "        # do one step of stochastic gradient descent: U=U-lr(dL/dU), V=V-lr(dL/dU), ...\n",
    "        optimizer.step()   "
   ]
  },
  {
   "cell_type": "markdown",
   "metadata": {
    "colab_type": "text",
    "id": "y1WidPb4S-c4"
   },
   "source": [
    "### Choose image at random from the test set and see how good/bad are the predictions"
   ]
  },
  {
   "cell_type": "code",
   "execution_count": 15,
   "metadata": {
    "colab": {},
    "colab_type": "code",
    "id": "GrpUXb1vS-c4"
   },
   "outputs": [
    {
     "data": {
      "image/png": "[encoded data removed]",
      "text/plain": [
       "<Figure size 640x480 with 1 Axes>"
      ]
     },
     "metadata": {},
     "output_type": "display_data"
    },
    {
     "name": "stdout",
     "output_type": "stream",
     "text": [
      "Confidence scores:\n",
      "T-shirt/top : 0.005936802364885807\n",
      "Trouser     : 0.0023514830972999334\n",
      "Pullover    : 0.620765209197998\n",
      "Dress       : 0.008293109014630318\n",
      "Coat        : 0.14276903867721558\n",
      "Sandal      : 0.04068298637866974\n",
      "Shirt       : 0.1036142110824585\n",
      "Sneaker     : 0.0018525617197155952\n",
      "Bag         : 0.06383787840604782\n",
      "Ankle boot  : 0.009896577335894108\n",
      "\n",
      "Label with highest confidence score: Pullover\n"
     ]
    }
   ],
   "source": [
    "import numpy as np\n",
    "import matplotlib.pyplot as plt\n",
    "%matplotlib inline\n",
    "\n",
    "# choose a picture at random\n",
    "im_minibatch, label_minibatch = next(iter(testloader))\n",
    "im, label = im_minibatch[0], label_minibatch[0]\n",
    "\n",
    "# Function to show an image tensor\n",
    "def show(X):\n",
    "    if X.dim() == 3 and X.size(2) == 3:\n",
    "        plt.imshow(X.numpy())\n",
    "        plt.show()\n",
    "    elif X.dim() == 2:\n",
    "        plt.imshow(   X.numpy() , cmap='gray'  )\n",
    "        plt.show()\n",
    "    else:\n",
    "        print('WRONG TENSOR SIZE')\n",
    "\n",
    "# diplay the picture\n",
    "show(im)\n",
    "\n",
    "# feed it to the net and display the confidence scores\n",
    "prob = F.softmax(net( im.view(1,784)), dim=1)  # Apply softmax to normalize the output to a probability distribution\n",
    "\n",
    "print('Confidence scores:\\n' + '\\n'.join(['{:12s}: {}'.format(classes[i], p.item()) for i, p in enumerate(prob.squeeze())]))\n",
    "\n",
    "print('\\nLabel with highest confidence score: {}'.format(classes[torch.argmax(prob).item()]))\n"
   ]
  }
 ],
 "metadata": {
  "colab": {
   "collapsed_sections": [],
   "name": "mlp_exercise.ipynb",
   "provenance": []
  },
  "kernelspec": {
   "display_name": "Python 3 (ipykernel)",
   "language": "python",
   "name": "python3"
  },
  "language_info": {
   "codemirror_mode": {
    "name": "ipython",
    "version": 3
   },
   "file_extension": ".py",
   "mimetype": "text/x-python",
   "name": "python",
   "nbconvert_exporter": "python",
   "pygments_lexer": "ipython3",
   "version": "3.9.12"
  }
 },
 "nbformat": 4,
 "nbformat_minor": 4
}
