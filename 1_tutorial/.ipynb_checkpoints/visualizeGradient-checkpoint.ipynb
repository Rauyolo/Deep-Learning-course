{
 "cells": [
  {
   "cell_type": "code",
   "execution_count": 2,
   "id": "5256be48-6361-46c6-b905-bd346dc99e0b",
   "metadata": {},
   "outputs": [],
   "source": [
    "import numpy as np"
   ]
  },
  {
   "cell_type": "code",
   "execution_count": 3,
   "id": "bf1c81a0-5ccd-4389-b8bb-f8fa4537c6e6",
   "metadata": {},
   "outputs": [],
   "source": [
    "EPSILON = 1e-8\n",
    "\n",
    "class Model():\n",
    "    def __init__(self, x_init, y_init, learning_rate, global_min):\n",
    "        self.x = x_init\n",
    "        self.y = y_init\n",
    "        self.lr = learning_rate\n",
    "        self.global_min = global_min\n",
    "        \n",
    "    def forward(self):\n",
    "        grad_x = self.x**3-8*self.x-3\n",
    "        grad_y = self.y**3-8*self.y-3\n",
    "        self.x -= self.lr * grad_x\n",
    "        self.y -= self.lr * grad_y\n",
    "        \n",
    "    def loss(self):\n",
    "        loss = np.mean((np.array(self.global_min)-np.array([self.x, self.y]))**2)\n",
    "        if loss < 1000:\n",
    "            return loss\n",
    "        else:\n",
    "            return -1"
   ]
  },
  {
   "cell_type": "code",
   "execution_count": 15,
   "id": "0d31e96a-25d4-46b7-b490-a2581871c073",
   "metadata": {},
   "outputs": [
    {
     "name": "stdout",
     "output_type": "stream",
     "text": [
      "Initial conditions: x=-5, y=-5\n",
      "Learning rate = 0.01\n",
      "Loss: 31.562320473902577\n",
      "Final result: x=-2.618035285925372, y=-2.618035285925372\n",
      "\n",
      "Initial conditions: x=-5, y=-5\n",
      "Learning rate = 0.1\n",
      "Loss: 3.393949299162326e-11\n",
      "Final result: x=2.9999941742388487, y=2.9999941742388487\n",
      "\n",
      "Initial conditions: x=-5, y=-5\n",
      "Learning rate = 1\n",
      "Loss is too large, gradient diverges\n",
      "\n",
      "Initial conditions: x=-5, y=-2\n",
      "Learning rate = 0.01\n",
      "Loss: 31.562303269662895\n",
      "Final result: x=-2.618035285925372, y=-2.618032223601358\n",
      "\n",
      "Initial conditions: x=-5, y=-2\n",
      "Learning rate = 0.1\n",
      "Loss: 15.781152949391497\n",
      "Final result: x=2.9999941742388487, y=-2.618033988749895\n",
      "\n",
      "Initial conditions: x=-5, y=-2\n",
      "Learning rate = 1\n",
      "Loss is too large, gradient diverges\n",
      "\n",
      "Initial conditions: x=4, y=4\n",
      "Learning rate = 0.01\n",
      "Loss: 2.769415622041624e-19\n",
      "Final result: x=3.0000000005262524, y=3.0000000005262524\n",
      "\n",
      "Initial conditions: x=4, y=4\n",
      "Learning rate = 0.1\n",
      "Loss: 4.495327348925937e-11\n",
      "Final result: x=3.0000067047202394, y=3.0000067047202394\n",
      "\n",
      "Initial conditions: x=4, y=4\n",
      "Learning rate = 1\n",
      "Loss is too large, gradient diverges\n",
      "\n"
     ]
    }
   ],
   "source": [
    "lrs = [0.01, 0.1, 1]\n",
    "inits = [[-5, -5],[-5, -2],[4, 4]]\n",
    "points = []\n",
    "\n",
    "for init in inits:\n",
    "    for lr in lrs:\n",
    "        flag = False\n",
    "        model = Model(init[0], init[1], lr, np.array([3, 3]))\n",
    "        print(\"Initial conditions: x={}, y={}\\nLearning rate = {}\".format(init[0], init[1], lr))\n",
    "        for epoch in range(1,100):\n",
    "            model.forward()\n",
    "            if model.loss() == -1:\n",
    "                print(\"Loss is too large, gradient diverges\\n\")\n",
    "                flag = True\n",
    "                break\n",
    "        if not flag:\n",
    "            print(\"Loss: {}\".format(model.loss()))\n",
    "            print(\"Final result: x={}, y={}\\n\".format(model.x, model.y))\n",
    "            points.append([model.x, model.y])"
   ]
  },
  {
   "cell_type": "code",
   "execution_count": 16,
   "id": "8537e1ea-fa99-458e-8e5c-4a8d6515e42a",
   "metadata": {},
   "outputs": [],
   "source": [
    "def findCost(x, y):\n",
    "    return 0.25*x**4+0.25*y**4-4*x**2-4*y**2-3*x-3*y"
   ]
  },
  {
   "cell_type": "code",
   "execution_count": 19,
   "id": "153d79c3-d0cc-4baa-92b0-b551d758475a",
   "metadata": {},
   "outputs": [
    {
     "data": {
      "image/png": "[encoded data removed]",
      "text/plain": [
       "<Figure size 640x480 with 2 Axes>"
      ]
     },
     "metadata": {},
     "output_type": "display_data"
    }
   ],
   "source": [
    "import matplotlib.pyplot as plt\n",
    "xlist = np.linspace(-5.0, 5.0, 100)\n",
    "ylist = np.linspace(-5.0, 5.0, 100)\n",
    "X, Y = np.meshgrid(xlist, ylist)\n",
    "Z = findCost(X, Y)\n",
    "fig,ax=plt.subplots(1,1)\n",
    "# getting the original colormap using cm.get_cmap() function\n",
    "orig_map=plt.cm.get_cmap('Oranges')\n",
    "# reversing the original colormap using reversed() function\n",
    "reversed_map = orig_map.reversed()\n",
    "cp = ax.contourf(X, Y, Z, cmap=reversed_map)\n",
    "fig.colorbar(cp) # Add a colorbar to a plot\n",
    "ax.set_title('Filled Contours Plot')\n",
    "ax.set_xlabel('x')\n",
    "ax.set_ylabel('y')\n",
    "ax.scatter(np.array(points)[:,0],np.array(points)[:,1])\n",
    "plt.show()"
   ]
  }
 ],
 "metadata": {
  "kernelspec": {
   "display_name": "dl_course-env",
   "language": "python",
   "name": "dl_course-env"
  },
  "language_info": {
   "codemirror_mode": {
    "name": "ipython",
    "version": 3
   },
   "file_extension": ".py",
   "mimetype": "text/x-python",
   "name": "python",
   "nbconvert_exporter": "python",
   "pygments_lexer": "ipython3",
   "version": "3.9.12"
  }
 },
 "nbformat": 4,
 "nbformat_minor": 5
}
