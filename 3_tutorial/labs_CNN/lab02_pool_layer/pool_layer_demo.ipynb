{
 "cells": [
  {
   "cell_type": "markdown",
   "metadata": {
    "colab_type": "text",
    "id": "93FsXJp3rFv5"
   },
   "source": [
    "# Lab 10.02 : Pooling layer - demo"
   ]
  },
  {
   "cell_type": "code",
   "execution_count": 4,
   "metadata": {
    "colab": {},
    "colab_type": "code",
    "id": "r5UTh2mZrFv8"
   },
   "outputs": [],
   "source": [
    "import torch\n",
    "import torch.nn as nn"
   ]
  },
  {
   "cell_type": "markdown",
   "metadata": {
    "colab_type": "text",
    "id": "qAux-6PmrFwA"
   },
   "source": [
    "### Make a pooling module\n",
    "* inputs:  activation maps of size n x n\n",
    "* output:  activation maps of size n/p x n/p\n",
    "* p: pooling size"
   ]
  },
  {
   "cell_type": "code",
   "execution_count": 5,
   "metadata": {
    "colab": {},
    "colab_type": "code",
    "id": "yzZKAjf-rFwB"
   },
   "outputs": [],
   "source": [
    "mod = nn.MaxPool2d(2,2)"
   ]
  },
  {
   "cell_type": "markdown",
   "metadata": {
    "colab_type": "text",
    "id": "Q4iXkaxSrFwE"
   },
   "source": [
    "### Make an input 2 x 6 x 6  (two channels, each one has 6 x 6 pixels )"
   ]
  },
  {
   "cell_type": "code",
   "execution_count": 6,
   "metadata": {
    "colab": {
     "base_uri": "https://localhost:8080/",
     "height": 459
    },
    "colab_type": "code",
    "executionInfo": {
     "elapsed": 784,
     "status": "ok",
     "timestamp": 1574855257001,
     "user": {
      "displayName": "Ron van Bree",
      "photoUrl": "",
      "userId": "10574495138637938052"
     },
     "user_tz": -60
    },
    "id": "WHJbtctwrFwF",
    "outputId": "c12de75c-e4ae-42f2-e9a1-afae1d3ee2ee"
   },
   "outputs": [
    {
     "name": "stdout",
     "output_type": "stream",
     "text": [
      "tensor([[[[0.7111, 0.2642, 0.1561, 0.4332, 0.3956, 0.9613],\n",
      "          [0.1226, 0.0278, 0.2656, 0.8435, 0.2344, 0.8759],\n",
      "          [0.6423, 0.7995, 0.2046, 0.7838, 0.8008, 0.7819],\n",
      "          [0.3703, 0.7172, 0.1774, 0.9465, 0.2398, 0.0489],\n",
      "          [0.6610, 0.9167, 0.8157, 0.2962, 0.1150, 0.2842],\n",
      "          [0.1955, 0.4446, 0.2694, 0.0196, 0.5588, 0.9172]],\n",
      "\n",
      "         [[0.8282, 0.0016, 0.8803, 0.4881, 0.9309, 0.2571],\n",
      "          [0.0564, 0.5114, 0.7419, 0.9381, 0.0585, 0.6131],\n",
      "          [0.5299, 0.6568, 0.5657, 0.4698, 0.4253, 0.4063],\n",
      "          [0.1832, 0.5536, 0.7414, 0.5579, 0.3262, 0.1337],\n",
      "          [0.9746, 0.5797, 0.7007, 0.5445, 0.6780, 0.2597],\n",
      "          [0.6856, 0.6291, 0.9781, 0.2318, 0.8684, 0.6815]]]])\n",
      "torch.Size([1, 2, 6, 6])\n"
     ]
    }
   ],
   "source": [
    "bs=1\n",
    "\n",
    "x=torch.rand(bs,2,6,6)\n",
    "\n",
    "\n",
    "print(x)\n",
    "print(x.size())"
   ]
  },
  {
   "cell_type": "markdown",
   "metadata": {
    "colab_type": "text",
    "id": "uP52pi6GrFwJ"
   },
   "source": [
    "### Feed it to the pooling layer: the output size should be divided by 2 "
   ]
  },
  {
   "cell_type": "code",
   "execution_count": 7,
   "metadata": {
    "colab": {
     "base_uri": "https://localhost:8080/",
     "height": 153
    },
    "colab_type": "code",
    "executionInfo": {
     "elapsed": 646,
     "status": "ok",
     "timestamp": 1574855260651,
     "user": {
      "displayName": "Ron van Bree",
      "photoUrl": "",
      "userId": "10574495138637938052"
     },
     "user_tz": -60
    },
    "id": "ZYXWqDjIrFwK",
    "outputId": "9709a76f-78bd-465a-8046-d1513a9c47b3"
   },
   "outputs": [
    {
     "name": "stdout",
     "output_type": "stream",
     "text": [
      "tensor([[[[0.7111, 0.8435, 0.9613],\n",
      "          [0.7995, 0.9465, 0.8008],\n",
      "          [0.9167, 0.8157, 0.9172]],\n",
      "\n",
      "         [[0.8282, 0.9381, 0.9309],\n",
      "          [0.6568, 0.7414, 0.4253],\n",
      "          [0.9746, 0.9781, 0.8684]]]])\n",
      "torch.Size([1, 2, 3, 3])\n"
     ]
    }
   ],
   "source": [
    "y=mod(x)\n",
    "\n",
    "print(y)\n",
    "print(y.size())"
   ]
  },
  {
   "cell_type": "code",
   "execution_count": null,
   "metadata": {
    "colab": {},
    "colab_type": "code",
    "id": "AeSBvDPsrFwM"
   },
   "outputs": [],
   "source": []
  },
  {
   "cell_type": "code",
   "execution_count": null,
   "metadata": {
    "colab": {},
    "colab_type": "code",
    "id": "dGE7edssrFwO"
   },
   "outputs": [],
   "source": []
  },
  {
   "cell_type": "code",
   "execution_count": null,
   "metadata": {
    "colab": {},
    "colab_type": "code",
    "id": "rH5FlZDNrFwR"
   },
   "outputs": [],
   "source": []
  }
 ],
 "metadata": {
  "colab": {
   "name": "pool_layer_demo.ipynb",
   "provenance": []
  },
  "kernelspec": {
   "display_name": "dl_course-env",
   "language": "python",
   "name": "dl_course-env"
  },
  "language_info": {
   "codemirror_mode": {
    "name": "ipython",
    "version": 3
   },
   "file_extension": ".py",
   "mimetype": "text/x-python",
   "name": "python",
   "nbconvert_exporter": "python",
   "pygments_lexer": "ipython3",
   "version": "3.9.12"
  }
 },
 "nbformat": 4,
 "nbformat_minor": 4
}
