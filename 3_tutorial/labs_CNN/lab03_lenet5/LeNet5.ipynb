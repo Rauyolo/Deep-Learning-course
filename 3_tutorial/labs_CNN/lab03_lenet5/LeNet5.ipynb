{
 "cells": [
  {
   "cell_type": "markdown",
   "metadata": {
    "colab_type": "text",
    "id": "XM2M1Tn73NQ5"
   },
   "source": [
    "# LeNet5 on MNIST\n",
    "In this lab we will train a LeNet5 model on the MNIST dataset"
   ]
  },
  {
   "cell_type": "code",
   "execution_count": 1,
   "metadata": {
    "colab": {},
    "colab_type": "code",
    "id": "aeBGrEwi06fz"
   },
   "outputs": [],
   "source": [
    "import torch\n",
    "import torch.nn as nn\n",
    "import torch.nn.functional as F\n",
    "import torch.optim as optim\n",
    "\n",
    "import time"
   ]
  },
  {
   "cell_type": "markdown",
   "metadata": {
    "colab_type": "text",
    "id": "7Vufhok43UWG"
   },
   "source": [
    "It is recommended to use the GPU for this exercise"
   ]
  },
  {
   "cell_type": "code",
   "execution_count": 2,
   "metadata": {
    "colab": {
     "base_uri": "https://localhost:8080/",
     "height": 34
    },
    "colab_type": "code",
    "executionInfo": {
     "elapsed": 1062,
     "status": "ok",
     "timestamp": 1574860822143,
     "user": {
      "displayName": "Ron van Bree",
      "photoUrl": "",
      "userId": "10574495138637938052"
     },
     "user_tz": -60
    },
    "id": "tTnvxLin1LNV",
    "outputId": "89826fa1-6995-4225-9a0b-bc0d7067c63b"
   },
   "outputs": [
    {
     "data": {
      "text/plain": [
       "device(type='cuda')"
      ]
     },
     "execution_count": 2,
     "metadata": {},
     "output_type": "execute_result"
    }
   ],
   "source": [
    "\n",
    "use_cuda = True\n",
    "\n",
    "if use_cuda and torch.cuda.is_available():\n",
    "  device = torch.device('cuda')\n",
    "else:\n",
    "  device = torch.device('cpu')\n",
    "\n",
    "device"
   ]
  },
  {
   "cell_type": "markdown",
   "metadata": {
    "colab_type": "text",
    "id": "rzu-t97vF7y4"
   },
   "source": [
    "Define a function to show images"
   ]
  },
  {
   "cell_type": "code",
   "execution_count": 3,
   "metadata": {
    "colab": {},
    "colab_type": "code",
    "id": "6h5iFcBkC3ui"
   },
   "outputs": [],
   "source": [
    "\n",
    "%matplotlib inline\n",
    "\n",
    "import numpy as np\n",
    "import matplotlib.pyplot as plt\n",
    "\n",
    "# Function to show an image tensor\n",
    "def show(X):\n",
    "    if X.dim() == 3 and X.size(2) == 3:\n",
    "        plt.imshow(X.numpy())\n",
    "        plt.show()\n",
    "    elif X.dim() == 2:\n",
    "        plt.imshow(   X.numpy() , cmap='gray'  )\n",
    "        plt.show()\n",
    "    else:\n",
    "        print('WRONG TENSOR SIZE')"
   ]
  },
  {
   "cell_type": "markdown",
   "metadata": {
    "colab_type": "text",
    "id": "kYGgIG8SGIr9"
   },
   "source": [
    "### Load the MNIST dataset"
   ]
  },
  {
   "cell_type": "code",
   "execution_count": 5,
   "metadata": {
    "colab": {
     "base_uri": "https://localhost:8080/",
     "height": 255
    },
    "colab_type": "code",
    "executionInfo": {
     "elapsed": 3595,
     "status": "ok",
     "timestamp": 1574860827874,
     "user": {
      "displayName": "Ron van Bree",
      "photoUrl": "",
      "userId": "10574495138637938052"
     },
     "user_tz": -60
    },
    "id": "40KsWyBt2qmv",
    "outputId": "c7ed115f-3225-4aa2-edce-9130d6e924f2"
   },
   "outputs": [
    {
     "name": "stdout",
     "output_type": "stream",
     "text": [
      "Downloading http://yann.lecun.com/exdb/mnist/train-images-idx3-ubyte.gz\n",
      "Downloading http://yann.lecun.com/exdb/mnist/train-images-idx3-ubyte.gz to ./data_mnist\\MNIST\\raw\\train-images-idx3-ubyte.gz\n"
     ]
    },
    {
     "data": {
      "application/vnd.jupyter.widget-view+json": {
       "model_id": "73f558a2f9174d15aa16418d16c4bc1c",
       "version_major": 2,
       "version_minor": 0
      },
      "text/plain": [
       "  0%|          | 0/9912422 [00:00<?, ?it/s]"
      ]
     },
     "metadata": {},
     "output_type": "display_data"
    },
    {
     "name": "stdout",
     "output_type": "stream",
     "text": [
      "Extracting ./data_mnist\\MNIST\\raw\\train-images-idx3-ubyte.gz to ./data_mnist\\MNIST\\raw\n",
      "\n",
      "Downloading http://yann.lecun.com/exdb/mnist/train-labels-idx1-ubyte.gz\n",
      "Downloading http://yann.lecun.com/exdb/mnist/train-labels-idx1-ubyte.gz to ./data_mnist\\MNIST\\raw\\train-labels-idx1-ubyte.gz\n"
     ]
    },
    {
     "data": {
      "application/vnd.jupyter.widget-view+json": {
       "model_id": "eef009de4b0f4b808bfc093713ddaacc",
       "version_major": 2,
       "version_minor": 0
      },
      "text/plain": [
       "  0%|          | 0/28881 [00:00<?, ?it/s]"
      ]
     },
     "metadata": {},
     "output_type": "display_data"
    },
    {
     "name": "stdout",
     "output_type": "stream",
     "text": [
      "Extracting ./data_mnist\\MNIST\\raw\\train-labels-idx1-ubyte.gz to ./data_mnist\\MNIST\\raw\n",
      "\n",
      "Downloading http://yann.lecun.com/exdb/mnist/t10k-images-idx3-ubyte.gz\n",
      "Downloading http://yann.lecun.com/exdb/mnist/t10k-images-idx3-ubyte.gz to ./data_mnist\\MNIST\\raw\\t10k-images-idx3-ubyte.gz\n"
     ]
    },
    {
     "data": {
      "application/vnd.jupyter.widget-view+json": {
       "model_id": "c47fe4b7a24e4ffd8f363cf6071f1c39",
       "version_major": 2,
       "version_minor": 0
      },
      "text/plain": [
       "  0%|          | 0/1648877 [00:00<?, ?it/s]"
      ]
     },
     "metadata": {},
     "output_type": "display_data"
    },
    {
     "name": "stdout",
     "output_type": "stream",
     "text": [
      "Extracting ./data_mnist\\MNIST\\raw\\t10k-images-idx3-ubyte.gz to ./data_mnist\\MNIST\\raw\n",
      "\n",
      "Downloading http://yann.lecun.com/exdb/mnist/t10k-labels-idx1-ubyte.gz\n",
      "Downloading http://yann.lecun.com/exdb/mnist/t10k-labels-idx1-ubyte.gz to ./data_mnist\\MNIST\\raw\\t10k-labels-idx1-ubyte.gz\n"
     ]
    },
    {
     "data": {
      "application/vnd.jupyter.widget-view+json": {
       "model_id": "2adda29b0ee948a3a06abaf291b175f1",
       "version_major": 2,
       "version_minor": 0
      },
      "text/plain": [
       "  0%|          | 0/4542 [00:00<?, ?it/s]"
      ]
     },
     "metadata": {},
     "output_type": "display_data"
    },
    {
     "name": "stdout",
     "output_type": "stream",
     "text": [
      "Extracting ./data_mnist\\MNIST\\raw\\t10k-labels-idx1-ubyte.gz to ./data_mnist\\MNIST\\raw\n",
      "\n"
     ]
    }
   ],
   "source": [
    "import torchvision.datasets\n",
    "import torchvision.transforms as transforms\n",
    "\n",
    "transform = transforms.Compose([transforms.ToTensor(),\n",
    "                                transforms.Normalize((0.1307,), (0.3081,)),  # Normalize the dataset by subtracting the mean (0.1307) and dividing by the std (0.3081)\n",
    "                                ])\n",
    "\n",
    "trainset = torchvision.datasets.MNIST(root='./data_mnist',\n",
    "                                      train=True,\n",
    "                                      download=True,\n",
    "                                      transform=transform\n",
    "                                      )\n",
    "\n",
    "testset = torchvision.datasets.MNIST(root='./data_mnist',\n",
    "                                     train=False,\n",
    "                                     download=True,\n",
    "                                     transform=transform\n",
    "                                     )\n",
    "\n",
    "batch_size = 128\n",
    "\n",
    "trainloader = torch.utils.data.DataLoader(trainset,\n",
    "                                          batch_size=batch_size,\n",
    "                                          shuffle=True,\n",
    "                                          )\n",
    "\n",
    "testloader = torch.utils.data.DataLoader(testset,\n",
    "                                         batch_size=batch_size,\n",
    "                                         shuffle=True,\n",
    "                                         )\n"
   ]
  },
  {
   "cell_type": "markdown",
   "metadata": {
    "colab_type": "text",
    "id": "zLHJlUyjGNhA"
   },
   "source": [
    "### Define the LeNet5 architecture"
   ]
  },
  {
   "cell_type": "code",
   "execution_count": 11,
   "metadata": {
    "colab": {},
    "colab_type": "code",
    "id": "IkHt81xb2-SN"
   },
   "outputs": [],
   "source": [
    "class LeNet5_convnet(nn.Module):\n",
    "\n",
    "    def __init__(self):\n",
    "\n",
    "        super(LeNet5_convnet, self).__init__()\n",
    "\n",
    "        # CL1:   28 x 28  -->    50 x 28 x 28 \n",
    "        self.conv1 = nn.Conv2d(1,   50,  kernel_size=3,  padding=1 )\n",
    "        \n",
    "        # MP1: 50 x 28 x 28 -->    50 x 14 x 14\n",
    "        self.pool1  = nn.MaxPool2d(2,2)\n",
    "        \n",
    "        # CL2:   50 x 14 x 14  -->    100 x 14 x 14 \n",
    "        self.conv2 = nn.Conv2d(50,  100,  kernel_size=3,  padding=1 )\n",
    "        \n",
    "        # MP2: 100 x 14 x 14 -->    100 x 7 x 7\n",
    "        self.pool2 = nn.MaxPool2d(2,2)\n",
    "        \n",
    "        # LL1:   100 x 7 x 7 = 4900 -->  100 \n",
    "        self.linear1 = nn.Linear(4900, 100)\n",
    "        \n",
    "        # LL2:   4900  -->  10 \n",
    "        self.linear2 = nn.Linear(100,10)\n",
    "\n",
    "\n",
    "    def forward(self, x):\n",
    "\n",
    "        # CL1:   28 x 28  -->    50 x 28 x 28 \n",
    "        x = self.conv1(x)\n",
    "        x = F.relu(x)\n",
    "        \n",
    "        # MP1: 50 x 28 x 28 -->    50 x 14 x 14\n",
    "        x = self.pool1(x)\n",
    "        \n",
    "        # CL2:   50 x 14 x 14  -->    100 x 14 x 14\n",
    "        x = self.conv2(x)\n",
    "        x = F.relu(x)\n",
    "        \n",
    "        # MP2: 100 x 14 x 14 -->    100 x 7 x 7\n",
    "        x = self.pool2(x)\n",
    "\n",
    "        # LL1:   100 x 7 x 7 = 4900  -->  100 \n",
    "        x = x.view(-1, 4900)\n",
    "        x = self.linear1(x)\n",
    "        x = F.relu(x)\n",
    "        \n",
    "        # LL2:   4900  -->  10 \n",
    "        x = self.linear2(x)\n",
    "    \n",
    "        return x"
   ]
  },
  {
   "cell_type": "code",
   "execution_count": 12,
   "metadata": {
    "colab": {},
    "colab_type": "code",
    "id": "O4iagyWQ6Axl"
   },
   "outputs": [],
   "source": [
    "# Build the network and move its parameters to either GPU or CPU\n",
    "net = LeNet5_convnet().to(device)"
   ]
  },
  {
   "cell_type": "markdown",
   "metadata": {
    "colab_type": "text",
    "id": "G3Pc9fdnKDk3"
   },
   "source": [
    "### Choose a loss function and learning rate"
   ]
  },
  {
   "cell_type": "code",
   "execution_count": 13,
   "metadata": {
    "colab": {},
    "colab_type": "code",
    "id": "PvENiJAt6Auj"
   },
   "outputs": [],
   "source": [
    "criterion = nn.CrossEntropyLoss()\n",
    "\n",
    "my_lr = 0.01\n"
   ]
  },
  {
   "cell_type": "markdown",
   "metadata": {
    "colab_type": "text",
    "id": "etpYx0fIHNvc"
   },
   "source": [
    "### Train the model on the train set"
   ]
  },
  {
   "cell_type": "code",
   "execution_count": 14,
   "metadata": {
    "colab": {},
    "colab_type": "code",
    "id": "KmSJpneX6ApZ"
   },
   "outputs": [
    {
     "name": "stdout",
     "output_type": "stream",
     "text": [
      "epoch: 1, time: 0.584s, loss: 2.290, train accuracy: 0.070\n",
      "epoch: 1, time: 1.325s, loss: 2.088, train accuracy: 0.508\n",
      "epoch: 1, time: 1.839s, loss: 1.737, train accuracy: 0.773\n",
      "epoch: 1, time: 2.217s, loss: 1.172, train accuracy: 0.828\n",
      "epoch: 1, time: 2.598s, loss: 0.791, train accuracy: 0.844\n",
      "epoch: 1, time: 2.995s, loss: 0.624, train accuracy: 0.828\n",
      "epoch: 1, time: 3.432s, loss: 0.597, train accuracy: 0.828\n",
      "epoch: 1, time: 3.831s, loss: 0.479, train accuracy: 0.844\n",
      "epoch: 1, time: 4.239s, loss: 0.449, train accuracy: 0.859\n",
      "epoch: 1, time: 4.657s, loss: 0.434, train accuracy: 0.891\n",
      "epoch: 1, time: 5.073s, loss: 0.322, train accuracy: 0.922\n",
      "epoch: 1, time: 5.499s, loss: 0.347, train accuracy: 0.922\n",
      "epoch: 1, time: 5.933s, loss: 0.282, train accuracy: 0.945\n",
      "epoch: 1, time: 6.410s, loss: 0.334, train accuracy: 0.914\n",
      "epoch: 1, time: 6.855s, loss: 0.512, train accuracy: 0.828\n",
      "epoch: 1, time: 7.308s, loss: 0.312, train accuracy: 0.898\n",
      "epoch: 1, time: 7.808s, loss: 0.377, train accuracy: 0.906\n",
      "epoch: 1, time: 8.286s, loss: 0.188, train accuracy: 0.953\n",
      "epoch: 1, time: 8.748s, loss: 0.209, train accuracy: 0.938\n",
      "epoch: 1, time: 9.213s, loss: 0.337, train accuracy: 0.898\n",
      "epoch: 1, time: 9.681s, loss: 0.302, train accuracy: 0.930\n",
      "epoch: 1, time: 10.152s, loss: 0.256, train accuracy: 0.914\n",
      "epoch: 1, time: 10.630s, loss: 0.235, train accuracy: 0.930\n",
      "epoch: 1, time: 11.141s, loss: 0.313, train accuracy: 0.914\n",
      "epoch: 2, time: 11.370s, loss: 0.189, train accuracy: 0.945\n",
      "epoch: 2, time: 11.886s, loss: 0.293, train accuracy: 0.898\n",
      "epoch: 2, time: 12.360s, loss: 0.247, train accuracy: 0.930\n",
      "epoch: 2, time: 12.819s, loss: 0.238, train accuracy: 0.938\n",
      "epoch: 2, time: 13.272s, loss: 0.155, train accuracy: 0.953\n",
      "epoch: 2, time: 13.726s, loss: 0.344, train accuracy: 0.922\n",
      "epoch: 2, time: 14.232s, loss: 0.200, train accuracy: 0.945\n",
      "epoch: 2, time: 14.680s, loss: 0.175, train accuracy: 0.953\n",
      "epoch: 2, time: 15.126s, loss: 0.309, train accuracy: 0.898\n",
      "epoch: 2, time: 15.569s, loss: 0.216, train accuracy: 0.938\n",
      "epoch: 2, time: 16.032s, loss: 0.225, train accuracy: 0.930\n",
      "epoch: 2, time: 16.507s, loss: 0.162, train accuracy: 0.945\n",
      "epoch: 2, time: 16.986s, loss: 0.243, train accuracy: 0.930\n",
      "epoch: 2, time: 17.478s, loss: 0.207, train accuracy: 0.930\n",
      "epoch: 2, time: 17.989s, loss: 0.160, train accuracy: 0.945\n",
      "epoch: 2, time: 18.477s, loss: 0.158, train accuracy: 0.953\n",
      "epoch: 2, time: 18.997s, loss: 0.181, train accuracy: 0.961\n",
      "epoch: 2, time: 19.507s, loss: 0.207, train accuracy: 0.945\n",
      "epoch: 2, time: 19.964s, loss: 0.157, train accuracy: 0.969\n",
      "epoch: 2, time: 20.434s, loss: 0.221, train accuracy: 0.938\n",
      "epoch: 2, time: 20.875s, loss: 0.150, train accuracy: 0.945\n",
      "epoch: 2, time: 21.324s, loss: 0.139, train accuracy: 0.953\n",
      "epoch: 2, time: 21.804s, loss: 0.134, train accuracy: 0.961\n",
      "epoch: 2, time: 22.250s, loss: 0.077, train accuracy: 0.984\n",
      "epoch: 3, time: 22.453s, loss: 0.077, train accuracy: 0.969\n",
      "epoch: 3, time: 22.907s, loss: 0.188, train accuracy: 0.945\n",
      "epoch: 3, time: 23.357s, loss: 0.173, train accuracy: 0.961\n",
      "epoch: 3, time: 23.874s, loss: 0.123, train accuracy: 0.961\n",
      "epoch: 3, time: 24.364s, loss: 0.209, train accuracy: 0.945\n",
      "epoch: 3, time: 24.867s, loss: 0.098, train accuracy: 0.969\n",
      "epoch: 3, time: 25.360s, loss: 0.099, train accuracy: 0.984\n",
      "epoch: 3, time: 25.857s, loss: 0.190, train accuracy: 0.938\n",
      "epoch: 3, time: 26.351s, loss: 0.140, train accuracy: 0.945\n",
      "epoch: 3, time: 26.849s, loss: 0.101, train accuracy: 0.969\n",
      "epoch: 3, time: 27.357s, loss: 0.130, train accuracy: 0.953\n",
      "epoch: 3, time: 27.852s, loss: 0.104, train accuracy: 0.969\n",
      "epoch: 3, time: 28.357s, loss: 0.099, train accuracy: 0.953\n",
      "epoch: 3, time: 28.894s, loss: 0.178, train accuracy: 0.938\n",
      "epoch: 3, time: 29.396s, loss: 0.144, train accuracy: 0.961\n",
      "epoch: 3, time: 29.873s, loss: 0.131, train accuracy: 0.953\n",
      "epoch: 3, time: 30.339s, loss: 0.073, train accuracy: 0.984\n",
      "epoch: 3, time: 30.817s, loss: 0.192, train accuracy: 0.945\n",
      "epoch: 3, time: 31.268s, loss: 0.142, train accuracy: 0.969\n",
      "epoch: 3, time: 31.720s, loss: 0.065, train accuracy: 0.984\n",
      "epoch: 3, time: 32.178s, loss: 0.109, train accuracy: 0.984\n",
      "epoch: 3, time: 32.653s, loss: 0.171, train accuracy: 0.961\n",
      "epoch: 3, time: 33.133s, loss: 0.120, train accuracy: 0.961\n",
      "epoch: 3, time: 33.612s, loss: 0.059, train accuracy: 0.984\n",
      "epoch: 4, time: 33.826s, loss: 0.156, train accuracy: 0.961\n",
      "epoch: 4, time: 34.314s, loss: 0.148, train accuracy: 0.938\n",
      "epoch: 4, time: 34.790s, loss: 0.066, train accuracy: 0.977\n",
      "epoch: 4, time: 35.274s, loss: 0.157, train accuracy: 0.938\n",
      "epoch: 4, time: 35.758s, loss: 0.089, train accuracy: 0.969\n",
      "epoch: 4, time: 36.243s, loss: 0.160, train accuracy: 0.953\n",
      "epoch: 4, time: 36.734s, loss: 0.159, train accuracy: 0.938\n",
      "epoch: 4, time: 37.227s, loss: 0.111, train accuracy: 0.969\n",
      "epoch: 4, time: 37.717s, loss: 0.088, train accuracy: 0.969\n",
      "epoch: 4, time: 38.206s, loss: 0.087, train accuracy: 0.969\n",
      "epoch: 4, time: 38.698s, loss: 0.083, train accuracy: 0.984\n",
      "epoch: 4, time: 39.239s, loss: 0.102, train accuracy: 0.969\n",
      "epoch: 4, time: 39.690s, loss: 0.098, train accuracy: 0.961\n",
      "epoch: 4, time: 40.152s, loss: 0.168, train accuracy: 0.930\n",
      "epoch: 4, time: 40.653s, loss: 0.092, train accuracy: 0.969\n",
      "epoch: 4, time: 41.136s, loss: 0.065, train accuracy: 0.984\n",
      "epoch: 4, time: 41.585s, loss: 0.073, train accuracy: 0.984\n",
      "epoch: 4, time: 42.032s, loss: 0.081, train accuracy: 0.961\n",
      "epoch: 4, time: 42.522s, loss: 0.052, train accuracy: 0.992\n",
      "epoch: 4, time: 43.015s, loss: 0.050, train accuracy: 0.992\n",
      "epoch: 4, time: 43.449s, loss: 0.072, train accuracy: 0.969\n",
      "epoch: 4, time: 43.916s, loss: 0.127, train accuracy: 0.945\n",
      "epoch: 4, time: 44.369s, loss: 0.152, train accuracy: 0.969\n",
      "epoch: 4, time: 44.875s, loss: 0.087, train accuracy: 0.969\n",
      "epoch: 5, time: 45.088s, loss: 0.101, train accuracy: 0.984\n",
      "epoch: 5, time: 45.571s, loss: 0.065, train accuracy: 0.984\n",
      "epoch: 5, time: 46.040s, loss: 0.070, train accuracy: 0.977\n",
      "epoch: 5, time: 46.522s, loss: 0.045, train accuracy: 0.992\n",
      "epoch: 5, time: 46.978s, loss: 0.075, train accuracy: 0.977\n",
      "epoch: 5, time: 47.415s, loss: 0.058, train accuracy: 0.984\n",
      "epoch: 5, time: 47.864s, loss: 0.156, train accuracy: 0.961\n",
      "epoch: 5, time: 48.317s, loss: 0.078, train accuracy: 0.984\n",
      "epoch: 5, time: 48.785s, loss: 0.103, train accuracy: 0.969\n",
      "epoch: 5, time: 49.256s, loss: 0.109, train accuracy: 0.977\n",
      "epoch: 5, time: 49.725s, loss: 0.254, train accuracy: 0.953\n",
      "epoch: 5, time: 50.197s, loss: 0.156, train accuracy: 0.953\n",
      "epoch: 5, time: 50.677s, loss: 0.102, train accuracy: 0.961\n",
      "epoch: 5, time: 51.159s, loss: 0.118, train accuracy: 0.977\n",
      "epoch: 5, time: 51.649s, loss: 0.072, train accuracy: 0.977\n",
      "epoch: 5, time: 52.142s, loss: 0.037, train accuracy: 1.000\n",
      "epoch: 5, time: 52.632s, loss: 0.037, train accuracy: 0.992\n",
      "epoch: 5, time: 53.129s, loss: 0.037, train accuracy: 1.000\n",
      "epoch: 5, time: 53.644s, loss: 0.130, train accuracy: 0.977\n",
      "epoch: 5, time: 54.156s, loss: 0.039, train accuracy: 0.984\n",
      "epoch: 5, time: 54.675s, loss: 0.122, train accuracy: 0.945\n",
      "epoch: 5, time: 55.192s, loss: 0.090, train accuracy: 0.961\n",
      "epoch: 5, time: 55.706s, loss: 0.097, train accuracy: 0.961\n",
      "epoch: 5, time: 56.221s, loss: 0.049, train accuracy: 1.000\n",
      "epoch: 6, time: 56.456s, loss: 0.094, train accuracy: 0.977\n",
      "epoch: 6, time: 56.997s, loss: 0.074, train accuracy: 0.984\n",
      "epoch: 6, time: 57.511s, loss: 0.166, train accuracy: 0.969\n",
      "epoch: 6, time: 58.021s, loss: 0.079, train accuracy: 0.969\n",
      "epoch: 6, time: 58.523s, loss: 0.069, train accuracy: 0.984\n",
      "epoch: 6, time: 58.997s, loss: 0.123, train accuracy: 0.977\n",
      "epoch: 6, time: 59.453s, loss: 0.118, train accuracy: 0.969\n",
      "epoch: 6, time: 59.918s, loss: 0.104, train accuracy: 0.977\n",
      "epoch: 6, time: 60.415s, loss: 0.120, train accuracy: 0.961\n",
      "epoch: 6, time: 60.952s, loss: 0.057, train accuracy: 0.992\n",
      "epoch: 6, time: 61.402s, loss: 0.079, train accuracy: 0.977\n",
      "epoch: 6, time: 61.833s, loss: 0.043, train accuracy: 0.992\n",
      "epoch: 6, time: 62.257s, loss: 0.184, train accuracy: 0.984\n",
      "epoch: 6, time: 62.686s, loss: 0.057, train accuracy: 0.977\n",
      "epoch: 6, time: 63.190s, loss: 0.102, train accuracy: 0.977\n",
      "epoch: 6, time: 63.696s, loss: 0.085, train accuracy: 0.961\n",
      "epoch: 6, time: 64.221s, loss: 0.115, train accuracy: 0.961\n",
      "epoch: 6, time: 64.692s, loss: 0.118, train accuracy: 0.984\n",
      "epoch: 6, time: 65.143s, loss: 0.096, train accuracy: 0.969\n",
      "epoch: 6, time: 65.610s, loss: 0.088, train accuracy: 0.984\n",
      "epoch: 6, time: 66.074s, loss: 0.044, train accuracy: 0.992\n",
      "epoch: 6, time: 66.528s, loss: 0.093, train accuracy: 0.984\n",
      "epoch: 6, time: 66.989s, loss: 0.039, train accuracy: 0.992\n",
      "epoch: 6, time: 67.443s, loss: 0.075, train accuracy: 0.984\n",
      "epoch: 7, time: 67.657s, loss: 0.089, train accuracy: 0.961\n",
      "epoch: 7, time: 68.135s, loss: 0.076, train accuracy: 0.984\n",
      "epoch: 7, time: 68.610s, loss: 0.077, train accuracy: 0.969\n",
      "epoch: 7, time: 69.102s, loss: 0.039, train accuracy: 0.984\n",
      "epoch: 7, time: 69.639s, loss: 0.029, train accuracy: 0.992\n",
      "epoch: 7, time: 70.158s, loss: 0.082, train accuracy: 0.984\n",
      "epoch: 7, time: 70.647s, loss: 0.102, train accuracy: 0.977\n",
      "epoch: 7, time: 71.135s, loss: 0.047, train accuracy: 0.977\n",
      "epoch: 7, time: 71.604s, loss: 0.045, train accuracy: 0.984\n",
      "epoch: 7, time: 72.052s, loss: 0.037, train accuracy: 0.984\n",
      "epoch: 7, time: 72.506s, loss: 0.109, train accuracy: 0.961\n",
      "epoch: 7, time: 72.964s, loss: 0.042, train accuracy: 0.984\n",
      "epoch: 7, time: 73.436s, loss: 0.055, train accuracy: 0.992\n",
      "epoch: 7, time: 73.903s, loss: 0.072, train accuracy: 0.969\n",
      "epoch: 7, time: 74.377s, loss: 0.080, train accuracy: 0.984\n",
      "epoch: 7, time: 74.895s, loss: 0.057, train accuracy: 0.977\n",
      "epoch: 7, time: 75.378s, loss: 0.029, train accuracy: 0.992\n",
      "epoch: 7, time: 75.870s, loss: 0.062, train accuracy: 0.992\n",
      "epoch: 7, time: 76.363s, loss: 0.037, train accuracy: 0.992\n",
      "epoch: 7, time: 76.855s, loss: 0.228, train accuracy: 0.961\n",
      "epoch: 7, time: 77.349s, loss: 0.040, train accuracy: 0.984\n",
      "epoch: 7, time: 77.851s, loss: 0.062, train accuracy: 0.984\n",
      "epoch: 7, time: 78.345s, loss: 0.045, train accuracy: 0.992\n",
      "epoch: 7, time: 78.855s, loss: 0.029, train accuracy: 0.984\n",
      "epoch: 8, time: 79.080s, loss: 0.073, train accuracy: 0.977\n",
      "epoch: 8, time: 79.635s, loss: 0.053, train accuracy: 0.984\n",
      "epoch: 8, time: 80.131s, loss: 0.122, train accuracy: 0.953\n",
      "epoch: 8, time: 80.608s, loss: 0.034, train accuracy: 0.992\n",
      "epoch: 8, time: 81.058s, loss: 0.025, train accuracy: 1.000\n",
      "epoch: 8, time: 81.513s, loss: 0.038, train accuracy: 0.984\n",
      "epoch: 8, time: 81.970s, loss: 0.084, train accuracy: 0.969\n",
      "epoch: 8, time: 82.442s, loss: 0.083, train accuracy: 0.969\n",
      "epoch: 8, time: 82.922s, loss: 0.143, train accuracy: 0.945\n",
      "epoch: 8, time: 83.406s, loss: 0.036, train accuracy: 0.984\n",
      "epoch: 8, time: 83.891s, loss: 0.100, train accuracy: 0.969\n",
      "epoch: 8, time: 84.382s, loss: 0.134, train accuracy: 0.961\n",
      "epoch: 8, time: 84.877s, loss: 0.043, train accuracy: 0.992\n",
      "epoch: 8, time: 85.382s, loss: 0.068, train accuracy: 0.969\n",
      "epoch: 8, time: 85.873s, loss: 0.022, train accuracy: 1.000\n",
      "epoch: 8, time: 86.380s, loss: 0.055, train accuracy: 0.984\n",
      "epoch: 8, time: 86.884s, loss: 0.016, train accuracy: 1.000\n",
      "epoch: 8, time: 87.402s, loss: 0.164, train accuracy: 0.977\n",
      "epoch: 8, time: 87.911s, loss: 0.044, train accuracy: 0.984\n",
      "epoch: 8, time: 88.422s, loss: 0.072, train accuracy: 0.977\n",
      "epoch: 8, time: 88.940s, loss: 0.093, train accuracy: 0.984\n",
      "epoch: 8, time: 89.456s, loss: 0.044, train accuracy: 0.984\n",
      "epoch: 8, time: 89.972s, loss: 0.062, train accuracy: 0.977\n",
      "epoch: 8, time: 90.492s, loss: 0.060, train accuracy: 0.984\n",
      "epoch: 9, time: 90.725s, loss: 0.041, train accuracy: 0.992\n",
      "epoch: 9, time: 91.250s, loss: 0.031, train accuracy: 0.984\n",
      "epoch: 9, time: 91.753s, loss: 0.051, train accuracy: 0.984\n",
      "epoch: 9, time: 92.262s, loss: 0.059, train accuracy: 0.977\n",
      "epoch: 9, time: 92.792s, loss: 0.144, train accuracy: 0.961\n",
      "epoch: 9, time: 93.304s, loss: 0.020, train accuracy: 1.000\n",
      "epoch: 9, time: 93.808s, loss: 0.032, train accuracy: 0.992\n",
      "epoch: 9, time: 94.307s, loss: 0.042, train accuracy: 0.984\n",
      "epoch: 9, time: 94.809s, loss: 0.051, train accuracy: 0.977\n",
      "epoch: 9, time: 95.306s, loss: 0.019, train accuracy: 1.000\n",
      "epoch: 9, time: 95.803s, loss: 0.040, train accuracy: 0.984\n",
      "epoch: 9, time: 96.308s, loss: 0.062, train accuracy: 0.984\n",
      "epoch: 9, time: 96.817s, loss: 0.082, train accuracy: 0.969\n",
      "epoch: 9, time: 97.337s, loss: 0.050, train accuracy: 0.969\n",
      "epoch: 9, time: 97.841s, loss: 0.060, train accuracy: 0.984\n",
      "epoch: 9, time: 98.381s, loss: 0.037, train accuracy: 0.984\n",
      "epoch: 9, time: 98.863s, loss: 0.149, train accuracy: 0.969\n",
      "epoch: 9, time: 99.331s, loss: 0.112, train accuracy: 0.961\n",
      "epoch: 9, time: 99.807s, loss: 0.045, train accuracy: 0.984\n",
      "epoch: 9, time: 100.279s, loss: 0.036, train accuracy: 0.984\n",
      "epoch: 9, time: 100.775s, loss: 0.073, train accuracy: 0.977\n",
      "epoch: 9, time: 101.274s, loss: 0.051, train accuracy: 0.984\n",
      "epoch: 9, time: 101.775s, loss: 0.065, train accuracy: 0.992\n",
      "epoch: 9, time: 102.284s, loss: 0.050, train accuracy: 0.992\n"
     ]
    }
   ],
   "source": [
    "start=time.time()\n",
    "\n",
    "optimizer=torch.optim.SGD(net.parameters(), lr=my_lr)\n",
    "\n",
    "for epoch in range(1,10):\n",
    "\n",
    "    for i, (x_batch, y_batch) in enumerate(trainloader):\n",
    "        x_batch, y_batch = x_batch.to(device), y_batch.to(device)  # Move the data to the device that is used\n",
    "\n",
    "        optimizer.zero_grad()  # Set all currenly stored gradients to zero \n",
    "\n",
    "        y_pred = net(x_batch)\n",
    "\n",
    "        loss = criterion(y_pred, y_batch)\n",
    "\n",
    "        loss.backward()\n",
    "\n",
    "        optimizer.step()\n",
    "\n",
    "        # Compute relevant metrics\n",
    "\n",
    "        y_pred_max = torch.argmax(y_pred, dim=1)  # Get the labels with highest output probability\n",
    "\n",
    "        correct = torch.sum(torch.eq(y_pred_max, y_batch)).item()  # Count how many are equal to the true labels\n",
    "\n",
    "        elapsed = time.time() - start  # Keep track of how much time has elapsed\n",
    "\n",
    "        # Show progress every 20 batches \n",
    "        if not i % 20:\n",
    "            print(f'epoch: {epoch}, time: {elapsed:.3f}s, loss: {loss.item():.3f}, train accuracy: {correct / batch_size:.3f}')"
   ]
  },
  {
   "cell_type": "markdown",
   "metadata": {
    "colab_type": "text",
    "id": "1Uc1816EHVQY"
   },
   "source": [
    "### Evaluate the model on the test set"
   ]
  },
  {
   "cell_type": "code",
   "execution_count": 15,
   "metadata": {
    "colab": {
     "base_uri": "https://localhost:8080/",
     "height": 34
    },
    "colab_type": "code",
    "executionInfo": {
     "elapsed": 2479,
     "status": "ok",
     "timestamp": 1574861785810,
     "user": {
      "displayName": "Ron van Bree",
      "photoUrl": "",
      "userId": "10574495138637938052"
     },
     "user_tz": -60
    },
    "id": "hItOOXuwCD0w",
    "outputId": "bb453876-83a1-429d-ce3d-9493e0e805fe"
   },
   "outputs": [
    {
     "name": "stdout",
     "output_type": "stream",
     "text": [
      "Accuracy on the test set: 0.983\n"
     ]
    }
   ],
   "source": [
    "correct_total = 0\n",
    "\n",
    "for i, (x_batch, y_batch) in enumerate(testloader):\n",
    "    x_batch, y_batch = x_batch.to(device), y_batch.to(device)  # Move the data to the device that is used\n",
    "\n",
    "    y_pred = net(x_batch)\n",
    "    y_pred_max = torch.argmax(y_pred, dim=1)\n",
    "\n",
    "    correct_total += torch.sum(torch.eq(y_pred_max, y_batch)).item()\n",
    "\n",
    "print(f'Accuracy on the test set: {correct_total / len(testset):.3f}')"
   ]
  },
  {
   "cell_type": "markdown",
   "metadata": {
    "colab_type": "text",
    "id": "61nCgln8HZaN"
   },
   "source": [
    "### Show the model's prediction for a random sample from the test set"
   ]
  },
  {
   "cell_type": "code",
   "execution_count": 26,
   "metadata": {
    "colab": {
     "base_uri": "https://localhost:8080/",
     "height": 486
    },
    "colab_type": "code",
    "executionInfo": {
     "elapsed": 1068,
     "status": "ok",
     "timestamp": 1574861807056,
     "user": {
      "displayName": "Ron van Bree",
      "photoUrl": "",
      "userId": "10574495138637938052"
     },
     "user_tz": -60
    },
    "id": "d2grnY_u2-O2",
    "outputId": "f3db95dd-48ed-4360-8161-47ff9d20e9cf"
   },
   "outputs": [
    {
     "data": {
      "image/png": "[encoded data removed]",
      "text/plain": [
       "<Figure size 640x480 with 1 Axes>"
      ]
     },
     "metadata": {},
     "output_type": "display_data"
    },
    {
     "name": "stdout",
     "output_type": "stream",
     "text": [
      "Confidence scores:\n",
      "0: 9.782681900105672e-07\n",
      "1: 3.9823358499724293e-10\n",
      "2: 0.999976634979248\n",
      "3: 3.9921469578985125e-06\n",
      "4: 2.702623305594898e-06\n",
      "5: 6.9481491671297135e-09\n",
      "6: 2.2382788955610522e-08\n",
      "7: 4.311555112934684e-09\n",
      "8: 1.5646426618332043e-05\n",
      "9: 5.814696635297878e-08\n",
      "\n",
      "Label with highest confidence score: 2\n"
     ]
    }
   ],
   "source": [
    "# choose a picture at random\n",
    "im_minibatch, label_minibatch = next(iter(testloader))\n",
    "im, label = im_minibatch[0].cpu(), label_minibatch[0].cpu()\n",
    "\n",
    "# diplay the picture\n",
    "show(im.squeeze())\n",
    "\n",
    "# feed it to the net and display the confidence scores\n",
    "prob = F.softmax(net.cpu()(im.unsqueeze(0)), dim=1)\n",
    "\n",
    "print('Confidence scores:\\n' + '\\n'.join(['{}: {}'.format(i, p.item()) for i, p in enumerate(prob.squeeze())]))\n",
    "\n",
    "print('\\nLabel with highest confidence score: {}'.format(torch.argmax(prob).item()))"
   ]
  },
  {
   "cell_type": "code",
   "execution_count": null,
   "metadata": {},
   "outputs": [],
   "source": []
  }
 ],
 "metadata": {
  "accelerator": "GPU",
  "colab": {
   "collapsed_sections": [],
   "name": "LeNet5.ipynb",
   "provenance": [
    {
     "file_id": "1U8pUJpQVomtpYm5gWKreNW0Rbxv_9oFt",
     "timestamp": 1574862523348
    }
   ]
  },
  "kernelspec": {
   "display_name": "dl_course-env",
   "language": "python",
   "name": "dl_course-env"
  },
  "language_info": {
   "codemirror_mode": {
    "name": "ipython",
    "version": 3
   },
   "file_extension": ".py",
   "mimetype": "text/x-python",
   "name": "python",
   "nbconvert_exporter": "python",
   "pygments_lexer": "ipython3",
   "version": "3.9.12"
  }
 },
 "nbformat": 4,
 "nbformat_minor": 4
}
