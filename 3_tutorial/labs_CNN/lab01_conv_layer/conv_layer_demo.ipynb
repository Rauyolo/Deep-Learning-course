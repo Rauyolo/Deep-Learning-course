{
 "cells": [
  {
   "cell_type": "markdown",
   "metadata": {
    "colab_type": "text",
    "id": "OhJSn7iTpwG_"
   },
   "source": [
    "# Lab 10.01 : Convolutional layer - demo"
   ]
  },
  {
   "cell_type": "code",
   "execution_count": 1,
   "metadata": {
    "colab": {},
    "colab_type": "code",
    "id": "ZYTDxLInpwHM"
   },
   "outputs": [
    {
     "name": "stderr",
     "output_type": "stream",
     "text": [
      "C:\\Users\\raulv\\Desktop\\1B\\Deep Learning from Theory to Practice\\Tutorials\\dl_course-env\\lib\\site-packages\\tqdm\\auto.py:22: TqdmWarning: IProgress not found. Please update jupyter and ipywidgets. See https://ipywidgets.readthedocs.io/en/stable/user_install.html\n",
      "  from .autonotebook import tqdm as notebook_tqdm\n"
     ]
    }
   ],
   "source": [
    "import torch\n",
    "import torch.nn as nn"
   ]
  },
  {
   "cell_type": "markdown",
   "metadata": {
    "colab_type": "text",
    "id": "Vq_yliF9pwHa"
   },
   "source": [
    "### Make a convolutional module\n",
    "* inputs:  2 channels\n",
    "* output:  5 activation maps \n",
    "* filters are 3x3\n",
    "* padding with one layer of zero to not shrink anything"
   ]
  },
  {
   "cell_type": "code",
   "execution_count": 2,
   "metadata": {
    "colab": {},
    "colab_type": "code",
    "id": "yCPqQGDapwHe"
   },
   "outputs": [],
   "source": [
    "mod = nn.Conv2d(2 ,5 ,kernel_size=3, padding=1)"
   ]
  },
  {
   "cell_type": "markdown",
   "metadata": {
    "colab_type": "text",
    "id": "DGGefRYKpwHq"
   },
   "source": [
    "### Make an input 2 x 6 x 6  (two channels, each one has 6 x 6 pixels )"
   ]
  },
  {
   "cell_type": "code",
   "execution_count": 3,
   "metadata": {
    "colab": {
     "base_uri": "https://localhost:8080/",
     "height": 442
    },
    "colab_type": "code",
    "executionInfo": {
     "elapsed": 921,
     "status": "ok",
     "timestamp": 1574854950975,
     "user": {
      "displayName": "Ron van Bree",
      "photoUrl": "",
      "userId": "10574495138637938052"
     },
     "user_tz": -60
    },
    "id": "RJdR8DnRpwHv",
    "outputId": "f787e2ba-f5a1-4cb4-f003-019ddf062c40"
   },
   "outputs": [
    {
     "name": "stdout",
     "output_type": "stream",
     "text": [
      "tensor([[[[0.8471, 0.6476, 0.6904, 0.9712, 0.4126, 0.4620],\n",
      "          [0.4020, 0.3570, 0.2255, 0.8756, 0.4466, 0.4188],\n",
      "          [0.6161, 0.4818, 0.9668, 0.0803, 0.4611, 0.8130],\n",
      "          [0.2545, 0.9373, 0.2942, 0.9677, 0.5841, 0.5157],\n",
      "          [0.1765, 0.3069, 0.4469, 0.7933, 0.5817, 0.9931],\n",
      "          [0.8376, 0.3985, 0.8889, 0.3291, 0.8321, 0.1009]],\n",
      "\n",
      "         [[0.9279, 0.5798, 0.4549, 0.5336, 0.5970, 0.6826],\n",
      "          [0.3081, 0.9443, 0.3460, 0.3141, 0.0275, 0.2117],\n",
      "          [0.5998, 0.3227, 0.1292, 0.2842, 0.8287, 0.2495],\n",
      "          [0.2369, 0.7941, 0.9238, 0.8359, 0.4509, 0.2213],\n",
      "          [0.2674, 0.6639, 0.5836, 0.5122, 0.9237, 0.1418],\n",
      "          [0.3687, 0.9822, 0.3228, 0.3069, 0.0040, 0.9915]]]])\n"
     ]
    }
   ],
   "source": [
    "bs=1\n",
    "\n",
    "x=torch.rand(bs,2,6,6)\n",
    "\n",
    "print(x)"
   ]
  },
  {
   "cell_type": "markdown",
   "metadata": {
    "colab_type": "text",
    "id": "TjkFDxvapwH7"
   },
   "source": [
    "### Feed it to the convolutional layer: the output should have 5 channels (each one is 6x6)"
   ]
  },
  {
   "cell_type": "code",
   "execution_count": 4,
   "metadata": {
    "colab": {
     "base_uri": "https://localhost:8080/",
     "height": 1000
    },
    "colab_type": "code",
    "executionInfo": {
     "elapsed": 949,
     "status": "ok",
     "timestamp": 1574854973829,
     "user": {
      "displayName": "Ron van Bree",
      "photoUrl": "",
      "userId": "10574495138637938052"
     },
     "user_tz": -60
    },
    "id": "KUR66rhrpwH_",
    "outputId": "58b910b3-1c2e-4749-f720-1134c59f792a"
   },
   "outputs": [
    {
     "name": "stdout",
     "output_type": "stream",
     "text": [
      "tensor([[[[-0.0506, -0.2536, -0.4021, -0.3256, -0.2780, -0.1789],\n",
      "          [-0.1333, -0.4153,  0.1135, -0.3317, -0.1789, -0.4026],\n",
      "          [ 0.0576,  0.2396, -0.5798, -0.4119, -0.4725, -0.4685],\n",
      "          [ 0.0419, -0.3801, -0.3922, -0.0577, -0.2396, -0.5799],\n",
      "          [ 0.2865, -0.4441,  0.0174, -0.6197,  0.2390, -0.7129],\n",
      "          [-0.2228,  0.2938, -0.0703,  0.2038, -0.3120, -0.2936]],\n",
      "\n",
      "         [[-0.3737, -0.4278, -0.6345, -0.7883, -0.7204, -0.5052],\n",
      "          [-0.7688, -1.0348, -0.8367, -0.6009, -0.6410, -0.6421],\n",
      "          [-0.5695, -0.5258, -0.7259, -0.7010, -0.7452, -0.6566],\n",
      "          [-0.4142, -0.7984, -0.7193, -0.8594, -1.0405, -0.6953],\n",
      "          [-0.5343, -0.7821, -1.0454, -1.1038, -0.6925, -0.4270],\n",
      "          [-0.5783, -0.6778, -0.7530, -0.5260, -0.8673, -0.4062]],\n",
      "\n",
      "         [[-0.3295, -0.1938, -0.4179, -0.2038, -0.1588, -0.0692],\n",
      "          [-0.4152, -0.2120, -0.4574, -0.5185, -0.2054, -0.1147],\n",
      "          [-0.4847, -0.4957, -0.4757, -0.3415, -0.2609, -0.1802],\n",
      "          [-0.5276, -0.2502, -0.3316, -0.2447, -0.5304, -0.1894],\n",
      "          [-0.4369, -0.3241, -0.2343, -0.4334, -0.3751, -0.1116],\n",
      "          [-0.0747, -0.1148, -0.2842, -0.2454, -0.1771,  0.0542]],\n",
      "\n",
      "         [[ 0.0842,  0.0907,  0.2090,  0.0840,  0.1531, -0.0530],\n",
      "          [-0.4480, -0.0741,  0.1784,  0.0257, -0.0906,  0.1104],\n",
      "          [-0.2934,  0.1839,  0.0287,  0.0672,  0.3213,  0.0994],\n",
      "          [-0.1562, -0.0033,  0.0827,  0.2958, -0.0874,  0.1722],\n",
      "          [-0.1670, -0.4071,  0.2591, -0.2534,  0.5541, -0.1094],\n",
      "          [-0.2463,  0.0127, -0.1587, -0.0518, -0.1361, -0.1115]],\n",
      "\n",
      "         [[-0.1901, -0.0459,  0.1550,  0.1047,  0.1765,  0.0675],\n",
      "          [ 0.3504,  0.5647,  0.4062,  0.4418,  0.3331,  0.6314],\n",
      "          [-0.0870,  0.0914,  0.6094,  0.4559,  0.4307,  0.3849],\n",
      "          [ 0.1931,  0.3932,  0.1147,  0.0135,  0.4763,  0.6328],\n",
      "          [ 0.0192,  0.3575,  0.5439,  0.7118,  0.1700,  0.4138],\n",
      "          [ 0.1993,  0.0792,  0.3774,  0.2553,  0.7622,  0.2808]]]],\n",
      "       grad_fn=<ConvolutionBackward0>)\n"
     ]
    }
   ],
   "source": [
    "y=mod(x)\n",
    "\n",
    "print(y)"
   ]
  },
  {
   "cell_type": "markdown",
   "metadata": {
    "colab_type": "text",
    "id": "CAT9UjVipwID"
   },
   "source": [
    "### Lets look at the 5 filters.\n",
    "* Our filters are 2x3x3\n",
    "* Each of the filter has 2 channels because the inputs have two channels"
   ]
  },
  {
   "cell_type": "code",
   "execution_count": 5,
   "metadata": {
    "colab": {
     "base_uri": "https://localhost:8080/",
     "height": 765
    },
    "colab_type": "code",
    "executionInfo": {
     "elapsed": 874,
     "status": "ok",
     "timestamp": 1574854982140,
     "user": {
      "displayName": "Ron van Bree",
      "photoUrl": "",
      "userId": "10574495138637938052"
     },
     "user_tz": -60
    },
    "id": "IlUapB1spwIE",
    "outputId": "2d8b5873-084e-4e72-d841-d3e95aaa26d1"
   },
   "outputs": [
    {
     "data": {
      "text/plain": [
       "Parameter containing:\n",
       "tensor([[[[-0.0750, -0.2190,  0.2065],\n",
       "          [ 0.1405, -0.1807,  0.2011],\n",
       "          [-0.1931,  0.1422, -0.1427]],\n",
       "\n",
       "         [[-0.1082,  0.1734,  0.1714],\n",
       "          [-0.0007,  0.1006, -0.2219],\n",
       "          [-0.1974, -0.1603,  0.2185]]],\n",
       "\n",
       "\n",
       "        [[[-0.0356, -0.0384, -0.2160],\n",
       "          [-0.0756, -0.1809,  0.0815],\n",
       "          [-0.1025, -0.2045, -0.2109]],\n",
       "\n",
       "         [[ 0.0690, -0.2029, -0.0237],\n",
       "          [-0.0826, -0.1730, -0.1253],\n",
       "          [-0.0824,  0.1890,  0.1997]]],\n",
       "\n",
       "\n",
       "        [[[ 0.1881, -0.1920, -0.1587],\n",
       "          [ 0.0961, -0.0813, -0.2048],\n",
       "          [-0.0156, -0.0602, -0.2176]],\n",
       "\n",
       "         [[ 0.0370, -0.0413,  0.1344],\n",
       "          [-0.0722,  0.1615,  0.1470],\n",
       "          [ 0.0258,  0.0828, -0.1718]]],\n",
       "\n",
       "\n",
       "        [[[ 0.2036, -0.1207,  0.0656],\n",
       "          [ 0.1555,  0.1049,  0.2176],\n",
       "          [ 0.0875,  0.1026, -0.1861]],\n",
       "\n",
       "         [[-0.0616, -0.0720, -0.1481],\n",
       "          [-0.0465,  0.0456, -0.0926],\n",
       "          [ 0.2231, -0.1378,  0.1709]]],\n",
       "\n",
       "\n",
       "        [[[ 0.0822,  0.1383,  0.1728],\n",
       "          [-0.0436,  0.0474, -0.0901],\n",
       "          [ 0.2018, -0.0456, -0.0061]],\n",
       "\n",
       "         [[ 0.1179,  0.1843, -0.1645],\n",
       "          [-0.0854, -0.1900,  0.0684],\n",
       "          [ 0.1906, -0.0609, -0.1873]]]], requires_grad=True)"
      ]
     },
     "execution_count": 5,
     "metadata": {},
     "output_type": "execute_result"
    }
   ],
   "source": [
    "mod.weight"
   ]
  },
  {
   "cell_type": "code",
   "execution_count": null,
   "metadata": {
    "colab": {},
    "colab_type": "code",
    "id": "fLdkhhtJpwII"
   },
   "outputs": [],
   "source": []
  },
  {
   "cell_type": "code",
   "execution_count": null,
   "metadata": {
    "colab": {},
    "colab_type": "code",
    "id": "3IHFWacnpwIL"
   },
   "outputs": [],
   "source": []
  },
  {
   "cell_type": "code",
   "execution_count": null,
   "metadata": {
    "colab": {},
    "colab_type": "code",
    "id": "SyvX2i45pwIO"
   },
   "outputs": [],
   "source": []
  },
  {
   "cell_type": "code",
   "execution_count": null,
   "metadata": {
    "colab": {},
    "colab_type": "code",
    "id": "zYSD5VUhpwIQ"
   },
   "outputs": [],
   "source": []
  }
 ],
 "metadata": {
  "colab": {
   "name": "conv_layer_demo.ipynb",
   "provenance": []
  },
  "kernelspec": {
   "display_name": "dl_course-env",
   "language": "python",
   "name": "dl_course-env"
  },
  "language_info": {
   "codemirror_mode": {
    "name": "ipython",
    "version": 3
   },
   "file_extension": ".py",
   "mimetype": "text/x-python",
   "name": "python",
   "nbconvert_exporter": "python",
   "pygments_lexer": "ipython3",
   "version": "3.9.12"
  }
 },
 "nbformat": 4,
 "nbformat_minor": 4
}
