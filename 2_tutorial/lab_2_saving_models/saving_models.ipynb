{
 "cells": [
  {
   "cell_type": "markdown",
   "metadata": {
    "colab_type": "text",
    "id": "I2FAxX2B9HD3"
   },
   "source": [
    "# Saving and loading models\n",
    "\n",
    "In the previous lab you probably noticed it can take a long time to train these models. It is therefore very useful to be able to save models to disk so they can be reused. "
   ]
  },
  {
   "cell_type": "markdown",
   "metadata": {
    "colab_type": "text",
    "id": "BBTHUuhT9NDP"
   },
   "source": [
    "Before being able to save the models, we need something to save it to. Colab notebooks can easily interact with your Google Drive. To enable this, your drive first has to be mounted:"
   ]
  },
  {
   "cell_type": "code",
   "execution_count": 18,
   "metadata": {
    "colab": {},
    "colab_type": "code",
    "id": "k5wlvWgN-eXR"
   },
   "outputs": [],
   "source": [
    "import os\n",
    "\n",
    "folder_path = './saved_model/'\n",
    "\n",
    "if not os.path.isdir(folder_path):\n",
    "    os.mkdir(folder_path)\n",
    "    print('Folder created!')\n"
   ]
  },
  {
   "cell_type": "markdown",
   "metadata": {
    "colab_type": "text",
    "id": "75nOS_I7A9aI"
   },
   "source": [
    "We use this folder store the files used in this demo"
   ]
  },
  {
   "cell_type": "code",
   "execution_count": 9,
   "metadata": {
    "colab": {
     "base_uri": "https://localhost:8080/",
     "height": 34
    },
    "colab_type": "code",
    "executionInfo": {
     "elapsed": 1011,
     "status": "ok",
     "timestamp": 1575324461045,
     "user": {
      "displayName": "Ron van Bree",
      "photoUrl": "",
      "userId": "10574495138637938052"
     },
     "user_tz": -60
    },
    "id": "5hosJadj6VHU",
    "outputId": "b597d85e-cc04-4b1a-a819-17ce81b88595"
   },
   "outputs": [
    {
     "name": "stdout",
     "output_type": "stream",
     "text": [
      "foobar\n"
     ]
    }
   ],
   "source": [
    "with open(folder_path + 'some_file.txt', 'w') as f:  # Write something to the file (overwriting current file content)\n",
    "    f.write('foo')\n",
    "\n",
    "with open(folder_path + 'some_file.txt', 'a') as f:  # Append to existing content in the file\n",
    "    f.write('bar')\n",
    "\n",
    "with open(folder_path + 'some_file.txt', 'r') as f:  # Read from the file\n",
    "    print(f.read())\n"
   ]
  },
  {
   "cell_type": "markdown",
   "metadata": {
    "colab_type": "text",
    "id": "t53GYhK7BJ-L"
   },
   "source": [
    "Now suppose we have some model that we'd like to reuse and thus want save to disk. In this example we do not use a trained model, but the same methods work for trained models as well."
   ]
  },
  {
   "cell_type": "code",
   "execution_count": 19,
   "metadata": {
    "colab": {},
    "colab_type": "code",
    "id": "b1kzncotGbIU"
   },
   "outputs": [],
   "source": [
    "import torch\n",
    "import torch.nn as nn"
   ]
  },
  {
   "cell_type": "code",
   "execution_count": 20,
   "metadata": {
    "colab": {},
    "colab_type": "code",
    "id": "VERvA0SF6VNF"
   },
   "outputs": [],
   "source": [
    "class MLP(nn.Module):\n",
    "\n",
    "    def __init__(self, input_size, layer_sizes, output_size):\n",
    "        super(MLP, self).__init__()\n",
    "        shape = (input_size,) + tuple(layer_sizes) + (output_size,)\n",
    "        self.layers = nn.ModuleList([nn.Linear(shape[i], shape[i + 1]) for i in range(len(shape) - 1)])\n",
    "\n",
    "    def forward(self, x):\n",
    "        for layer in self.layers[:-1]:\n",
    "            x = F.relu(layer(x))\n",
    "        return F.softmax(self.layers[-1](x), dim=1)"
   ]
  },
  {
   "cell_type": "code",
   "execution_count": 21,
   "metadata": {
    "colab": {},
    "colab_type": "code",
    "id": "i_O0QnyU6VKR"
   },
   "outputs": [],
   "source": [
    "model = MLP(784, (32, 32), 10)  # Initialize a new model"
   ]
  },
  {
   "cell_type": "markdown",
   "metadata": {
    "colab_type": "text",
    "id": "uSQl2PjxlcbA"
   },
   "source": [
    "We can save the entire model object as follows:"
   ]
  },
  {
   "cell_type": "code",
   "execution_count": 22,
   "metadata": {
    "colab": {},
    "colab_type": "code",
    "id": "XCqWf_bi7ixa"
   },
   "outputs": [],
   "source": [
    "torch.save(model, folder_path + 'model.pth')"
   ]
  },
  {
   "cell_type": "markdown",
   "metadata": {
    "colab_type": "text",
    "id": "ijymtmF8ljsQ"
   },
   "source": [
    "The model can then be loaded from disk by"
   ]
  },
  {
   "cell_type": "code",
   "execution_count": 23,
   "metadata": {
    "colab": {
     "base_uri": "https://localhost:8080/",
     "height": 136
    },
    "colab_type": "code",
    "executionInfo": {
     "elapsed": 1341,
     "status": "ok",
     "timestamp": 1575324490541,
     "user": {
      "displayName": "Ron van Bree",
      "photoUrl": "",
      "userId": "10574495138637938052"
     },
     "user_tz": -60
    },
    "id": "8WZ_4sug7i7p",
    "outputId": "fc408004-cce4-4045-ad26-2e2d010ee5a9"
   },
   "outputs": [
    {
     "name": "stdout",
     "output_type": "stream",
     "text": [
      "MLP(\n",
      "  (layers): ModuleList(\n",
      "    (0): Linear(in_features=784, out_features=32, bias=True)\n",
      "    (1): Linear(in_features=32, out_features=32, bias=True)\n",
      "    (2): Linear(in_features=32, out_features=10, bias=True)\n",
      "  )\n",
      ")\n"
     ]
    }
   ],
   "source": [
    "model = torch.load(folder_path + 'model.pth')\n",
    "print(model)"
   ]
  },
  {
   "cell_type": "markdown",
   "metadata": {
    "colab_type": "text",
    "id": "1uWD-UPmlsko"
   },
   "source": [
    "A disadvantage of this method is that this might break when changes are made to the model class or when the directories containing the class definitions are restructured. This is because only the location of the model class definition is stored, instead of the actual code. An alternative way of saving/loading models is to only store the weights. These weights are contained in the model's state dict. Saving and loading models then works as follows:"
   ]
  },
  {
   "cell_type": "code",
   "execution_count": 24,
   "metadata": {
    "colab": {},
    "colab_type": "code",
    "id": "0NoBKfgs7i-w"
   },
   "outputs": [],
   "source": [
    "torch.save(model.state_dict(), folder_path + 'model_state.pth')"
   ]
  },
  {
   "cell_type": "code",
   "execution_count": 25,
   "metadata": {
    "colab": {
     "base_uri": "https://localhost:8080/",
     "height": 34
    },
    "colab_type": "code",
    "executionInfo": {
     "elapsed": 1164,
     "status": "ok",
     "timestamp": 1575324506456,
     "user": {
      "displayName": "Ron van Bree",
      "photoUrl": "",
      "userId": "10574495138637938052"
     },
     "user_tz": -60
    },
    "id": "FccdPbxM6VEl",
    "outputId": "e7a6a5b4-9d9d-4d2d-f12d-db0339677cca"
   },
   "outputs": [
    {
     "data": {
      "text/plain": [
       "<All keys matched successfully>"
      ]
     },
     "execution_count": 25,
     "metadata": {},
     "output_type": "execute_result"
    }
   ],
   "source": [
    "model_state = torch.load(folder_path + 'model_state.pth')  # Load the model's weights\n",
    "model = MLP(784, (32, 32), 10)  # It is required to have a model object to set its weights, so we initialize a new one\n",
    "model.load_state_dict(model_state)  # Set the model weights to the saved weights. Note that the model architecture must be equal to the architecture of the model from which the state_dict was obtained!"
   ]
  },
  {
   "cell_type": "markdown",
   "metadata": {
    "colab_type": "text",
    "id": "rAHxfwIyncgr"
   },
   "source": [
    "Similarly, it is possible to save the state of an optimizer. Suppose you want to stop training a model, but have the possibility of continuing later. This requires you to save the optimizer state as well (think for example of the velocity term when using momentum in SGD). "
   ]
  },
  {
   "cell_type": "code",
   "execution_count": 26,
   "metadata": {
    "colab": {
     "base_uri": "https://localhost:8080/",
     "height": 153
    },
    "colab_type": "code",
    "executionInfo": {
     "elapsed": 981,
     "status": "ok",
     "timestamp": 1575324712991,
     "user": {
      "displayName": "Ron van Bree",
      "photoUrl": "",
      "userId": "10574495138637938052"
     },
     "user_tz": -60
    },
    "id": "6GbvlUg19F39",
    "outputId": "72bae8b3-ff7a-44c1-8c24-45cff0c639f3"
   },
   "outputs": [
    {
     "name": "stdout",
     "output_type": "stream",
     "text": [
      "SGD (\n",
      "Parameter Group 0\n",
      "    dampening: 0\n",
      "    differentiable: False\n",
      "    foreach: None\n",
      "    lr: 0.01\n",
      "    maximize: False\n",
      "    momentum: 0.5\n",
      "    nesterov: False\n",
      "    weight_decay: 0\n",
      ")\n"
     ]
    }
   ],
   "source": [
    "optimizer = torch.optim.SGD(model.parameters(), lr=0.01, momentum=0.5)\n",
    "\n",
    "torch.save(optimizer.state_dict(), folder_path + 'optimizer_state.pth')\n",
    "\n",
    "optimizer_state = torch.load(folder_path + 'optimizer_state.pth')\n",
    "\n",
    "optimizer = torch.optim.SGD(model.parameters(), lr=42)\n",
    "\n",
    "optimizer.load_state_dict(optimizer_state)\n",
    "\n",
    "print(optimizer)"
   ]
  },
  {
   "cell_type": "code",
   "execution_count": null,
   "metadata": {
    "colab": {},
    "colab_type": "code",
    "id": "sibsvA-K9F2t"
   },
   "outputs": [],
   "source": []
  }
 ],
 "metadata": {
  "colab": {
   "collapsed_sections": [],
   "name": "saving_models.ipynb",
   "provenance": []
  },
  "kernelspec": {
   "display_name": "Python 3 (ipykernel)",
   "language": "python",
   "name": "python3"
  },
  "language_info": {
   "codemirror_mode": {
    "name": "ipython",
    "version": 3
   },
   "file_extension": ".py",
   "mimetype": "text/x-python",
   "name": "python",
   "nbconvert_exporter": "python",
   "pygments_lexer": "ipython3",
   "version": "3.9.12"
  }
 },
 "nbformat": 4,
 "nbformat_minor": 4
}
